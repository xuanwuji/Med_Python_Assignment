{
 "cells": [
  {
   "cell_type": "code",
   "execution_count": 2,
   "metadata": {},
   "outputs": [
    {
     "name": "stdout",
     "output_type": "stream",
     "text": [
      "Launching server at http://localhost:54655\n"
     ]
    },
    {
     "data": {
      "text/plain": [
       "<panel.io.server.Server at 0x1e78201de70>"
      ]
     },
     "execution_count": 2,
     "metadata": {},
     "output_type": "execute_result"
    }
   ],
   "source": [
    "import panel as pn\n",
    "import hvplot.pandas \n",
    "import seaborn as sns\n",
    "import pandas as pd\n",
    "\n",
    "# 读取数据\n",
    "df = pd.read_csv(\"codon_usage.csv\")\n",
    "aa_list = list(df['triple'].unique())\n",
    "\n",
    "# 创建选择菜单\n",
    "aa = pn.widgets.Select(name = 'Select a amino acid',options = aa_list)\n",
    "\n",
    "# 创建以widget作为参数的绘图函数\n",
    "@pn.depends(aa)\n",
    "def make_plot(x):\n",
    "    df_for_plot = df[df[\"triple\"] == x]\n",
    "    plot = df_for_plot.hvplot.bar(x = 'codon',y = 'relative_frequency',title = 'codon frequency of ' + x,xlabel = 'codon',ylabel = 'relative_frequency')\n",
    "    return plot\n",
    "\n",
    "# 显示APP\n",
    "pn.Row(pn. WidgetBox(aa),make_plot).show()"
   ]
  }
 ],
 "metadata": {
  "kernelspec": {
   "display_name": "Python 3.10.2 64-bit",
   "language": "python",
   "name": "python3"
  },
  "language_info": {
   "codemirror_mode": {
    "name": "ipython",
    "version": 3
   },
   "file_extension": ".py",
   "mimetype": "text/x-python",
   "name": "python",
   "nbconvert_exporter": "python",
   "pygments_lexer": "ipython3",
   "version": "3.10.2"
  },
  "orig_nbformat": 4,
  "vscode": {
   "interpreter": {
    "hash": "09b65f390098d53b36190eec73dbcd12d289a3030c002bae902f9cfd46ae931d"
   }
  }
 },
 "nbformat": 4,
 "nbformat_minor": 2
}
